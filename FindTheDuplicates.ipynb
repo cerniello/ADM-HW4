{
 "cells": [
  {
   "cell_type": "code",
   "execution_count": 1,
   "metadata": {},
   "outputs": [],
   "source": [
    "from SeekDuplicatesAlgorithm import FindDuplicates"
   ]
  },
  {
   "cell_type": "code",
   "execution_count": 2,
   "metadata": {},
   "outputs": [],
   "source": [
    "#loading the password set\n",
    "filename = 'passwords2.txt'\n",
    "passwords = []\n",
    "with open(filename) as file:\n",
    "    for line in file:\n",
    "        passwords.append(line.strip())"
   ]
  },
  {
   "cell_type": "code",
   "execution_count": 19,
   "metadata": {},
   "outputs": [
    {
     "data": {
      "text/plain": [
       "['OHcv-/U3QI$rdqYTef\"D']"
      ]
     },
     "execution_count": 19,
     "metadata": {},
     "output_type": "execute_result"
    }
   ],
   "source": [
    "passwords[:1]"
   ]
  },
  {
   "cell_type": "code",
   "execution_count": 3,
   "metadata": {},
   "outputs": [],
   "source": [
    "#defining a function that check if a number is prime or not\n",
    "\n",
    "def check_prime(p):\n",
    "    for i in range(2, p):\n",
    "        if p % i == 0:\n",
    "            return False\n",
    "    return True\n",
    "\n",
    "#defining a function to get the closest prime number of a given integer\n",
    "def find_next_prime(n):\n",
    "    if check_prime(n):\n",
    "        return n\n",
    "    _previous = n - 1\n",
    "    _next = n + 1\n",
    "    while True:\n",
    "        if check_prime(_previous):\n",
    "            return _previous\n",
    "        elif check_prime(_next):\n",
    "            return _next\n",
    "        else:\n",
    "            _previous -= 1\n",
    "            _next += 1\n"
   ]
  },
  {
   "cell_type": "code",
   "execution_count": 4,
   "metadata": {},
   "outputs": [],
   "source": [
    "l = []\n",
    "for word in passwords[:1000]:\n",
    "    for char in word:\n",
    "        if char not in l:\n",
    "            l.append(char)"
   ]
  },
  {
   "cell_type": "code",
   "execution_count": 5,
   "metadata": {},
   "outputs": [],
   "source": [
    "minPrime = 0\n",
    "maxPrime = 10000\n",
    "cached_primes = [i for i in range(minPrime,maxPrime) if check_prime(i)]\n"
   ]
  },
  {
   "cell_type": "code",
   "execution_count": 6,
   "metadata": {},
   "outputs": [],
   "source": [
    "#creating a dictionary with all the characters present in the passwords file as keys and a prime number as value\n",
    "import random\n",
    "wdict = {}\n",
    "for elem in range(0, len(l)):\n",
    "    v = find_next_prime(ord(l[elem]))\n",
    "    if v not in wdict.values():\n",
    "        wdict[l[elem]] = v\n",
    "    n = random.choice([i for i in cached_primes])\n",
    "    v = v * n\n",
    "    wdict[l[elem]] = v"
   ]
  },
  {
   "cell_type": "code",
   "execution_count": 7,
   "metadata": {},
   "outputs": [
    {
     "data": {
      "text/plain": [
       "{'O': 126163,\n",
       " 'H': 262061,\n",
       " 'c': 951667,\n",
       " 'v': 554717,\n",
       " '-': 405791,\n",
       " '/': 428969,\n",
       " 'U': 189323,\n",
       " '3': 265159,\n",
       " 'Q': 284953,\n",
       " 'I': 46939,\n",
       " '$': 300107,\n",
       " 'r': 909989,\n",
       " 'd': 644279,\n",
       " 'q': 52771,\n",
       " 'Y': 145693,\n",
       " 'T': 637523,\n",
       " 'e': 591557,\n",
       " 'f': 293809,\n",
       " '\"': 44981,\n",
       " 'D': 362939,\n",
       " 't': 971461,\n",
       " 'A': 3953,\n",
       " '*': 261293,\n",
       " '.': 452563,\n",
       " 'x': 872699,\n",
       " 'M': 71969,\n",
       " '(': 141409,\n",
       " '+': 355309,\n",
       " 'a': 744281,\n",
       " '6': 120151,\n",
       " '&': 172087,\n",
       " 'o': 168841,\n",
       " ';': 357953,\n",
       " 'w': 191309,\n",
       " 'u': 848291,\n",
       " \"'\": 17057,\n",
       " 'N': 518951,\n",
       " 'P': 96143,\n",
       " 'k': 1177,\n",
       " 'l': 803249,\n",
       " 'j': 986647,\n",
       " 'h': 675989,\n",
       " 'b': 572591,\n",
       " '%': 174751,\n",
       " 'J': 541003,\n",
       " '7': 360559,\n",
       " '9': 272639,\n",
       " 'C': 271417,\n",
       " '5': 45527,\n",
       " '@': 35807,\n",
       " 'S': 660929,\n",
       " '=': 296521,\n",
       " 'L': 727591,\n",
       " 'p': 74693,\n",
       " 'B': 475901,\n",
       " 'i': 554861,\n",
       " 'm': 460961,\n",
       " '#': 24457,\n",
       " 'y': 1063879,\n",
       " '1': 453221,\n",
       " 'V': 124417,\n",
       " ',': 90257,\n",
       " '4': 428929,\n",
       " 'G': 92513,\n",
       " 'n': 406897,\n",
       " 'X': 277591,\n",
       " '2': 318613,\n",
       " '<': 43601,\n",
       " 's': 968749,\n",
       " 'F': 214349,\n",
       " '!': 96379,\n",
       " ':': 127499,\n",
       " 'W': 218851,\n",
       " 'Z': 737543,\n",
       " 'z': 1070483,\n",
       " 'E': 472819,\n",
       " '>': 310307,\n",
       " ')': 393067,\n",
       " 'K': 180821,\n",
       " 'g': 770131,\n",
       " '0': 151199,\n",
       " '8': 398719,\n",
       " '?': 143777,\n",
       " 'R': 683339}"
      ]
     },
     "execution_count": 7,
     "metadata": {},
     "output_type": "execute_result"
    }
   ],
   "source": [
    "wdict"
   ]
  },
  {
   "cell_type": "code",
   "execution_count": 15,
   "metadata": {},
   "outputs": [],
   "source": [
    "rev_multidict = {}\n",
    "for key, value in wdict.items():\n",
    "    rev_multidict.setdefault(value, set()).add(key)"
   ]
  },
  {
   "cell_type": "code",
   "execution_count": 16,
   "metadata": {},
   "outputs": [
    {
     "data": {
      "text/plain": [
       "[]"
      ]
     },
     "execution_count": 16,
     "metadata": {},
     "output_type": "execute_result"
    }
   ],
   "source": [
    "[key for key, values in rev_multidict.items() if len(values) > 1]"
   ]
  },
  {
   "cell_type": "code",
   "execution_count": 10,
   "metadata": {},
   "outputs": [],
   "source": [
    "dup = FindDuplicates(9000000000, [2, 3, 5], passwords, wdict)"
   ]
  },
  {
   "cell_type": "code",
   "execution_count": 11,
   "metadata": {},
   "outputs": [
    {
     "name": "stdout",
     "output_type": "stream",
     "text": [
      "0\n",
      "1000000\n",
      "2000000\n",
      "3000000\n",
      "4000000\n",
      "5000000\n",
      "6000000\n",
      "7000000\n",
      "8000000\n",
      "9000000\n",
      "10000000\n",
      "11000000\n",
      "12000000\n",
      "13000000\n",
      "14000000\n",
      "15000000\n",
      "16000000\n",
      "17000000\n",
      "18000000\n",
      "19000000\n",
      "20000000\n",
      "21000000\n",
      "22000000\n",
      "23000000\n",
      "24000000\n",
      "25000000\n",
      "26000000\n",
      "27000000\n",
      "28000000\n",
      "29000000\n",
      "30000000\n",
      "31000000\n",
      "32000000\n",
      "33000000\n",
      "34000000\n",
      "35000000\n",
      "36000000\n",
      "37000000\n",
      "38000000\n",
      "39000000\n",
      "40000000\n",
      "41000000\n",
      "42000000\n",
      "43000000\n",
      "44000000\n",
      "45000000\n",
      "46000000\n",
      "47000000\n",
      "48000000\n",
      "49000000\n",
      "50000000\n",
      "51000000\n",
      "52000000\n",
      "53000000\n",
      "54000000\n",
      "55000000\n",
      "56000000\n",
      "57000000\n",
      "58000000\n",
      "59000000\n",
      "60000000\n",
      "61000000\n",
      "62000000\n",
      "63000000\n",
      "64000000\n",
      "65000000\n",
      "66000000\n",
      "67000000\n",
      "68000000\n",
      "69000000\n",
      "70000000\n",
      "71000000\n",
      "72000000\n",
      "73000000\n",
      "74000000\n",
      "75000000\n",
      "76000000\n",
      "77000000\n",
      "78000000\n",
      "79000000\n",
      "80000000\n",
      "81000000\n",
      "82000000\n",
      "83000000\n",
      "84000000\n",
      "85000000\n",
      "86000000\n",
      "87000000\n",
      "88000000\n",
      "89000000\n",
      "90000000\n",
      "91000000\n",
      "92000000\n",
      "93000000\n",
      "94000000\n",
      "95000000\n",
      "96000000\n",
      "97000000\n",
      "98000000\n",
      "99000000\n",
      "100000000\n",
      "101000000\n",
      "102000000\n",
      "103000000\n",
      "104000000\n",
      "105000000\n",
      "106000000\n",
      "107000000\n",
      "108000000\n",
      "109000000\n"
     ]
    }
   ],
   "source": [
    "c = 0\n",
    "for word in range(0, len(passwords)):\n",
    "    if word % 1000000 == 0:\n",
    "        print(word)\n",
    "    if dup.check(passwords[word]):\n",
    "        c += 1\n",
    "    dup.add(passwords[word])\n",
    "    "
   ]
  },
  {
   "cell_type": "code",
   "execution_count": 12,
   "metadata": {},
   "outputs": [
    {
     "data": {
      "text/plain": [
       "12163587"
      ]
     },
     "execution_count": 12,
     "metadata": {},
     "output_type": "execute_result"
    }
   ],
   "source": [
    "c"
   ]
  },
  {
   "cell_type": "code",
   "execution_count": null,
   "metadata": {},
   "outputs": [],
   "source": [
    "len(l)"
   ]
  },
  {
   "cell_type": "code",
   "execution_count": null,
   "metadata": {},
   "outputs": [],
   "source": []
  },
  {
   "cell_type": "code",
   "execution_count": null,
   "metadata": {},
   "outputs": [],
   "source": [
    "len(cached_primes)"
   ]
  },
  {
   "cell_type": "code",
   "execution_count": 17,
   "metadata": {},
   "outputs": [],
   "source": [
    "def hash_it(item, seed):\n",
    "    base = 1099511628211 + seed\n",
    "    for char in item:\n",
    "        n = wdict.get(char)\n",
    "        base *= n\n",
    "    return base"
   ]
  },
  {
   "cell_type": "code",
   "execution_count": 21,
   "metadata": {},
   "outputs": [],
   "source": [
    "n = hash_it('OHcv-/U3QI$rdqYTef\"D', 2)"
   ]
  },
  {
   "cell_type": "code",
   "execution_count": 22,
   "metadata": {},
   "outputs": [
    {
     "data": {
      "text/plain": [
       "88745456091"
      ]
     },
     "execution_count": 22,
     "metadata": {},
     "output_type": "execute_result"
    }
   ],
   "source": [
    "n % 90000000000"
   ]
  },
  {
   "cell_type": "code",
   "execution_count": null,
   "metadata": {},
   "outputs": [],
   "source": []
  }
 ],
 "metadata": {
  "kernelspec": {
   "display_name": "Python 3",
   "language": "python",
   "name": "python3"
  },
  "language_info": {
   "codemirror_mode": {
    "name": "ipython",
    "version": 3
   },
   "file_extension": ".py",
   "mimetype": "text/x-python",
   "name": "python",
   "nbconvert_exporter": "python",
   "pygments_lexer": "ipython3",
   "version": "3.7.0"
  }
 },
 "nbformat": 4,
 "nbformat_minor": 2
}
