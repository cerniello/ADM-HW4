{
 "cells": [
  {
   "cell_type": "markdown",
   "metadata": {},
   "source": [
    "# Find the duplicates\n",
    "\n",
    "***\n",
    "\n",
    "After a power analysis, our strategy has been to face this task relying on a data structure that we already knew about and adapting it to our purposes. More specifically we implemented a **Bloom Filter-look-like** algorithm to fetch all the duplicate passwords stored in the txt file. This particular space-efficient data structure is used to test whether an element is a member of a set. The price we pay for efficiency is that it is probabilistic in nature meaning that there might be some **False Positive** results. False positive means, it might tell that given passwords are duplicate even if they actually aren't.\n",
    "\n",
    "\n",
    "The important features of this data structure are:\n",
    "+ Ability of representing a set with an arbitrarily **large** number of elements.\n",
    "+ Adding an element never fails. However, the false positive rate increases steadily as elements are added until all bits in the array are set to 1, at which point all queries produce a positive result.\n",
    "+ Never generates false negative result, i.e., telling you that a password does not have duplicates when it actually has.\n",
    "\n",
    "### How does it work?\n",
    "\n",
    "1. The algorithm is based on a huge **bit array** all set to zero. The bigger the bit array is, the less false positives will be detected.\n",
    "\n",
    "\n",
    "2. When checking a password, the **hash function** converts the string to a very big number. In our case we assured that each character is mapped to a unique prime number computed starting by obtaining the **unicode** value of the character and finding the closest prime number to it that is not already stored. The final hash value is the multiplication of all the values of the characters contained in the password. The advantage of working with multiplication between **prime numbers** is to ensure greater uniqueness of the hash value of each password.\n",
    "\n",
    "\n",
    "3. After computing the hashes k times with k different seeds (but always the same k different seeds for every other password), with the modulo operation (the rest of the division by the size of the bitarray) the result are three indexes i1 i2 i3.\n",
    "\n",
    "\n",
    "4. If all three the indexes are already set to 1, it means that the password has already processed and checked so the password that we are checking rapresents a duplicate **or** a false positive, otherwise the indexes will be set to 1 meaning that the password is unique.\n",
    "\n",
    "***\n",
    "\n",
    "### Example\n",
    "\n",
    "Suppose we want to check wether the password **'Orange'** is a duplicate or not. And suppose we have initialized the bitarray to **10** (the lenght of the bit array should be way more big but we choose 10 for explenation purposes). We will have:"
   ]
  },
  {
   "cell_type": "code",
   "execution_count": null,
   "metadata": {},
   "outputs": [],
   "source": [
    "pw1 = 'Orange'\n",
    "size_bit_array = 10\n",
    "    \n",
    "hash_it(pw1, 0) % size_bit_array = 3\n",
    "hash_it(pw1, 1) % size_bit_array = 7\n",
    "hash_it(pw1, 2) % size_bit_array = 4"
   ]
  },
  {
   "cell_type": "markdown",
   "metadata": {},
   "source": [
    "<img src=\"Orange.png\" width = 500>"
   ]
  },
  {
   "cell_type": "markdown",
   "metadata": {},
   "source": [
    "When scanning other passwords of our set we will verify if another password already exists in the data structure simply repeating the steps again and checking if the indexes are already set to 1. In this case the password is a duplicate or a probable false positive.\n",
    "So let's say now we check another word, **'Apple'**. We'll get:"
   ]
  },
  {
   "cell_type": "code",
   "execution_count": null,
   "metadata": {},
   "outputs": [],
   "source": [
    "pw2 = 'Apple'\n",
    "size_bit_array = 10\n",
    "\n",
    "hash_it(pw2, 0) % size_bit_array = 2\n",
    "hash_it(pw2, 1) % size_bit_array = 5\n",
    "hash_it(pw2, 2) % size_bit_array = 9"
   ]
  },
  {
   "cell_type": "markdown",
   "metadata": {},
   "source": [
    "<img src=\"Apple.png\" width = 500>"
   ]
  },
  {
   "cell_type": "markdown",
   "metadata": {},
   "source": [
    "But if we will check a password such as **'Gpple'**. There is high probability that the hash functions will generate the same values generated for **'Apple'**, obaining the same indexes. In this case the password will be considered a false positive."
   ]
  },
  {
   "cell_type": "code",
   "execution_count": null,
   "metadata": {},
   "outputs": [],
   "source": [
    "pw3 = 'Gpple'\n",
    "size_bit_array = 10\n",
    "\n",
    "hash_it(pw3, 0) % size_bit_array = 2\n",
    "hash_it(pw3, 1) % size_bit_array = 5\n",
    "hash_it(pw3, 2) % size_bit_array = 9"
   ]
  },
  {
   "cell_type": "markdown",
   "metadata": {},
   "source": [
    "<img src=\"Gpple.png\" width = 500>\n",
    "\n",
    "So, because bits at calculated indices are already set by some other item, the data structure erroneously claim that 'Gpple' is present and generating a **false positive result**. We can control the probability of getting a false positive by controlling the size of the bit array. **More space means fewer false positives**. If we want decrease probability of false positive result, we have to use more number of hash functions and larger bit array. This would add latency in addition of item and checking membership.\n",
    "\n",
    "***\n",
    "\n",
    "\n",
    "# Usage\n",
    "The following chunks rapresent a possible usage of our implementation of the algorithm."
   ]
  },
  {
   "cell_type": "code",
   "execution_count": null,
   "metadata": {},
   "outputs": [],
   "source": [
    "import pandas as pd\n",
    "from SeekDuplicatesAlgorithm import FindDuplicates\n",
    "import DuplicateModule as dpm\n",
    "from importlib import reload"
   ]
  },
  {
   "cell_type": "markdown",
   "metadata": {},
   "source": [
    "Loading the passwords set:"
   ]
  },
  {
   "cell_type": "code",
   "execution_count": 24,
   "metadata": {},
   "outputs": [],
   "source": [
    "passwords = dpm.loadPw()"
   ]
  },
  {
   "cell_type": "code",
   "execution_count": 43,
   "metadata": {},
   "outputs": [
    {
     "data": {
      "text/plain": [
       "['OHcv-/U3QI$rdqYTef\"D',\n",
       " 'QtA*.xM$e(+\"aO36r&Uo',\n",
       " \"T;rqw/ou'HN-Pklj6hM*\",\n",
       " 'b%xJ79\"A*C5@ehMfS3lu',\n",
       " 'buI=;LpjBiCm\"JS5\\'#xy']"
      ]
     },
     "execution_count": 43,
     "metadata": {},
     "output_type": "execute_result"
    }
   ],
   "source": [
    "passwords[:5]"
   ]
  },
  {
   "cell_type": "markdown",
   "metadata": {},
   "source": [
    "Extracting single different characters that occur in all the set of passwords."
   ]
  },
  {
   "cell_type": "code",
   "execution_count": 27,
   "metadata": {},
   "outputs": [],
   "source": [
    "l = dpm.extractChar(passwords)"
   ]
  },
  {
   "cell_type": "code",
   "execution_count": 44,
   "metadata": {},
   "outputs": [
    {
     "data": {
      "text/plain": [
       "['O', 'H', 'c', 'v', '-']"
      ]
     },
     "execution_count": 44,
     "metadata": {},
     "output_type": "execute_result"
    }
   ],
   "source": [
    "l[:5]"
   ]
  },
  {
   "cell_type": "markdown",
   "metadata": {},
   "source": [
    "Creating a dictionary that assigns to each character detected before (considered as keys) to a unique prime number."
   ]
  },
  {
   "cell_type": "code",
   "execution_count": 31,
   "metadata": {},
   "outputs": [],
   "source": [
    "wdict = dpm.createDict(l)"
   ]
  },
  {
   "cell_type": "markdown",
   "metadata": {},
   "source": [
    "The dictionary looks like this:"
   ]
  },
  {
   "cell_type": "code",
   "execution_count": 45,
   "metadata": {},
   "outputs": [
    {
     "data": {
      "text/html": [
       "<div>\n",
       "<style scoped>\n",
       "    .dataframe tbody tr th:only-of-type {\n",
       "        vertical-align: middle;\n",
       "    }\n",
       "\n",
       "    .dataframe tbody tr th {\n",
       "        vertical-align: top;\n",
       "    }\n",
       "\n",
       "    .dataframe thead th {\n",
       "        text-align: right;\n",
       "    }\n",
       "</style>\n",
       "<table border=\"1\" class=\"dataframe\">\n",
       "  <thead>\n",
       "    <tr style=\"text-align: right;\">\n",
       "      <th></th>\n",
       "      <th>0</th>\n",
       "    </tr>\n",
       "  </thead>\n",
       "  <tbody>\n",
       "    <tr>\n",
       "      <th>O</th>\n",
       "      <td>267889</td>\n",
       "    </tr>\n",
       "    <tr>\n",
       "      <th>H</th>\n",
       "      <td>414569</td>\n",
       "    </tr>\n",
       "    <tr>\n",
       "      <th>c</th>\n",
       "      <td>161699</td>\n",
       "    </tr>\n",
       "    <tr>\n",
       "      <th>v</th>\n",
       "      <td>493019</td>\n",
       "    </tr>\n",
       "    <tr>\n",
       "      <th>-</th>\n",
       "      <td>100663</td>\n",
       "    </tr>\n",
       "    <tr>\n",
       "      <th>/</th>\n",
       "      <td>30973</td>\n",
       "    </tr>\n",
       "    <tr>\n",
       "      <th>U</th>\n",
       "      <td>109643</td>\n",
       "    </tr>\n",
       "    <tr>\n",
       "      <th>3</th>\n",
       "      <td>421403</td>\n",
       "    </tr>\n",
       "    <tr>\n",
       "      <th>Q</th>\n",
       "      <td>177197</td>\n",
       "    </tr>\n",
       "    <tr>\n",
       "      <th>I</th>\n",
       "      <td>4891</td>\n",
       "    </tr>\n",
       "  </tbody>\n",
       "</table>\n",
       "</div>"
      ],
      "text/plain": [
       "        0\n",
       "O  267889\n",
       "H  414569\n",
       "c  161699\n",
       "v  493019\n",
       "-  100663\n",
       "/   30973\n",
       "U  109643\n",
       "3  421403\n",
       "Q  177197\n",
       "I    4891"
      ]
     },
     "execution_count": 45,
     "metadata": {},
     "output_type": "execute_result"
    }
   ],
   "source": [
    "dict_table = pd.DataFrame.from_dict(wdict, orient=\"index\")\n",
    "dict_table[:10]"
   ]
  },
  {
   "cell_type": "markdown",
   "metadata": {},
   "source": [
    "Checking whether the prime numbers inside the dictionary are actually unique. If checkDuplicateKeys() returns an empty list, it means that the values are all unique."
   ]
  },
  {
   "cell_type": "code",
   "execution_count": 33,
   "metadata": {},
   "outputs": [
    {
     "data": {
      "text/plain": [
       "[]"
      ]
     },
     "execution_count": 33,
     "metadata": {},
     "output_type": "execute_result"
    }
   ],
   "source": [
    "dpm.checkDuplicateKeys(wdict)"
   ]
  },
  {
   "cell_type": "markdown",
   "metadata": {},
   "source": [
    "Instatiating a FindDuplicates object from the class we implemented that has as parameters the size of the **bitarray**, the **list** of 3 prime numbers that will rapresent the seeds for the hash function, the list of all the **passwords** and the **dictionary** created before."
   ]
  },
  {
   "cell_type": "code",
   "execution_count": null,
   "metadata": {},
   "outputs": [],
   "source": [
    "dup = FindDuplicates(9000000000, [2, 3, 5], passwords, wdict)"
   ]
  },
  {
   "cell_type": "markdown",
   "metadata": {},
   "source": [
    "This is the actual usage of the whole algorithm. The two functions that are used are **check()** and **add()**, whenever the check function returns True, it means that the password in process is already stored in the bitarray and we incrementer a counter variable otherwise it means that the password has no duplicate so it's added to the structure. The result will be the counter variable tha rapresents the sum of all the duplicates and the false positive passwords."
   ]
  },
  {
   "cell_type": "code",
   "execution_count": null,
   "metadata": {},
   "outputs": [],
   "source": [
    "c = 0\n",
    "for word in range(0, len(passwords)):\n",
    "    if dup.check(passwords[word]):\n",
    "        c += 1\n",
    "    dup.add(passwords[word])\n",
    "print('The overall number of duplicate strings and false positives are: '{}' '.format(c))"
   ]
  },
  {
   "cell_type": "code",
   "execution_count": null,
   "metadata": {},
   "outputs": [],
   "source": []
  }
 ],
 "metadata": {
  "kernelspec": {
   "display_name": "Python 3",
   "language": "python",
   "name": "python3"
  },
  "language_info": {
   "codemirror_mode": {
    "name": "ipython",
    "version": 3
   },
   "file_extension": ".py",
   "mimetype": "text/x-python",
   "name": "python",
   "nbconvert_exporter": "python",
   "pygments_lexer": "ipython3",
   "version": "3.7.0"
  }
 },
 "nbformat": 4,
 "nbformat_minor": 2
}
