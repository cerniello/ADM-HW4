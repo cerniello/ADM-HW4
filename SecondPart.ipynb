{
 "cells": [
  {
   "cell_type": "code",
   "execution_count": 1,
   "metadata": {},
   "outputs": [],
   "source": [
    "from bitarray import bitarray"
   ]
  },
  {
   "cell_type": "code",
   "execution_count": 2,
   "metadata": {},
   "outputs": [],
   "source": [
    "def hashFunction(string, seed):\n",
    "    \n",
    "    #i prime number chosen randomly within the first 10^12 primes:\n",
    "    prime = 1099511628211\n",
    "    \n",
    "    #a biiiiig number\n",
    "    offset_basis = 14695981039346656037\n",
    "\n",
    "    #creating a basis\n",
    "    vhash = offset_basis + seed\n",
    "    for char in string:\n",
    "        vhash = vhash^ord(char)\n",
    "        vhash = vhash*prime\n",
    "    return vhash"
   ]
  },
  {
   "cell_type": "code",
   "execution_count": 3,
   "metadata": {},
   "outputs": [],
   "source": [
    "#lenght of our bitarray\n",
    "n = 527178210\n",
    "\n",
    "#initializing our bitarray with specified lenght (it has to be very big)\n",
    "bit_array = bitarray(n)\n",
    "bit_array.setall(0)"
   ]
  },
  {
   "cell_type": "code",
   "execution_count": 4,
   "metadata": {},
   "outputs": [],
   "source": [
    "def check(item):\n",
    "    for i in range(3):\n",
    "        position = hashFunction(item, i) % n\n",
    "        if bit_array[position] == False:\n",
    "            return False\n",
    "    return True"
   ]
  },
  {
   "cell_type": "code",
   "execution_count": 5,
   "metadata": {},
   "outputs": [],
   "source": [
    "def add(item):\n",
    "    pos = []\n",
    "    for i in range(3):\n",
    "        d = hashFunction(item, i) % n\n",
    "        pos.append(d)\n",
    "        bit_array[d] = True"
   ]
  },
  {
   "cell_type": "code",
   "execution_count": 6,
   "metadata": {},
   "outputs": [],
   "source": [
    "array=[]\n",
    "with open('passwords2.txt') as passwords:\n",
    "    for line in passwords:\n",
    "        array.append(line.strip())"
   ]
  },
  {
   "cell_type": "code",
   "execution_count": null,
   "metadata": {},
   "outputs": [],
   "source": [
    "dup_count = 0\n",
    "for pw in array:\n",
    "    if check(pw):\n",
    "        dup_count += 1\n",
    "    add(pw)\n",
    "print(\"The number of duplicates and false positives is: {}\".format(dup_count) )"
   ]
  }
 ],
 "metadata": {
  "kernelspec": {
   "display_name": "Python 3",
   "language": "python",
   "name": "python3"
  },
  "language_info": {
   "codemirror_mode": {
    "name": "ipython",
    "version": 3
   },
   "file_extension": ".py",
   "mimetype": "text/x-python",
   "name": "python",
   "nbconvert_exporter": "python",
   "pygments_lexer": "ipython3",
   "version": "3.7.0"
  }
 },
 "nbformat": 4,
 "nbformat_minor": 2
}
