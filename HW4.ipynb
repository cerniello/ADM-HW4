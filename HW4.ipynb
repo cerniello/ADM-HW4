{
 "cells": [
  {
   "cell_type": "markdown",
   "metadata": {},
   "source": [
    "# ADM-Homework 4 \n",
    "    - Lohith Machani Sreenivasalu\n",
    "    - Michele Cernigliaro\n",
    "    - Paolo Gentile"
   ]
  },
  {
   "cell_type": "markdown",
   "metadata": {},
   "source": [
    "# 1) Does basic house information reflect house's description?"
   ]
  },
  {
   "cell_type": "code",
   "execution_count": 8,
   "metadata": {},
   "outputs": [],
   "source": [
    "import pandas as pd"
   ]
  },
  {
   "cell_type": "markdown",
   "metadata": {},
   "source": [
    "### 1.a) Scraping the data\n",
    "\n",
    "In this first point, we just created a function *scraping_function()* which scraps from www.immobiliare.it the information needed for this homework. The function will stop when the number of announcements reachs 10000. Informations will be stored into a dataframe, then, at the end, it will save the dataframe into a csv file, with path 'data/raw_data.csv'"
   ]
  },
  {
   "cell_type": "code",
   "execution_count": 1,
   "metadata": {},
   "outputs": [],
   "source": [
    "import scraping as scr # our module scraping.py\n",
    "#scr.scraping_function()"
   ]
  },
  {
   "cell_type": "markdown",
   "metadata": {},
   "source": [
    "At the end, we obtain a dataframe with the following features:"
   ]
  },
  {
   "cell_type": "code",
   "execution_count": 4,
   "metadata": {},
   "outputs": [
    {
     "data": {
      "text/html": [
       "<div>\n",
       "<style scoped>\n",
       "    .dataframe tbody tr th:only-of-type {\n",
       "        vertical-align: middle;\n",
       "    }\n",
       "\n",
       "    .dataframe tbody tr th {\n",
       "        vertical-align: top;\n",
       "    }\n",
       "\n",
       "    .dataframe thead th {\n",
       "        text-align: right;\n",
       "    }\n",
       "</style>\n",
       "<table border=\"1\" class=\"dataframe\">\n",
       "  <thead>\n",
       "    <tr style=\"text-align: right;\">\n",
       "      <th></th>\n",
       "      <th>title</th>\n",
       "      <th>price</th>\n",
       "      <th>locali</th>\n",
       "      <th>superficie</th>\n",
       "      <th>bagni</th>\n",
       "      <th>piano</th>\n",
       "      <th>description</th>\n",
       "    </tr>\n",
       "  </thead>\n",
       "  <tbody>\n",
       "    <tr>\n",
       "      <th>0</th>\n",
       "      <td>Nuovi Appartamenti e Attici / Mansarde in Vend...</td>\n",
       "      <td>€ 192.000 - € 705.000</td>\n",
       "      <td>1 - 5</td>\n",
       "      <td>46.0</td>\n",
       "      <td>NaN</td>\n",
       "      <td>NaN</td>\n",
       "      <td>\\n                                Le residenze...</td>\n",
       "    </tr>\n",
       "    <tr>\n",
       "      <th>1</th>\n",
       "      <td>Bilocale viale Italo Calvino, Fonte Ostiense, ...</td>\n",
       "      <td>€ 225.000</td>\n",
       "      <td>2</td>\n",
       "      <td>50.0</td>\n",
       "      <td>1</td>\n",
       "      <td>1     \\n</td>\n",
       "      <td>\\n                                PAPILLO EUR ...</td>\n",
       "    </tr>\n",
       "    <tr>\n",
       "      <th>2</th>\n",
       "      <td>Quadrilocale via Alessandro Fleming, Fleming, ...</td>\n",
       "      <td>€ 1.350.000</td>\n",
       "      <td>4</td>\n",
       "      <td>200.0</td>\n",
       "      <td>2</td>\n",
       "      <td>2     \\n</td>\n",
       "      <td>\\n                                FLEMING - IN...</td>\n",
       "    </tr>\n",
       "    <tr>\n",
       "      <th>3</th>\n",
       "      <td>Quadrilocale via Aosta 45, Re di Roma, Roma</td>\n",
       "      <td>€ 450.000</td>\n",
       "      <td>4</td>\n",
       "      <td>135.0</td>\n",
       "      <td>1</td>\n",
       "      <td>A     \\n</td>\n",
       "      <td>\\n                                Rif: 18086 -...</td>\n",
       "    </tr>\n",
       "    <tr>\n",
       "      <th>4</th>\n",
       "      <td>Attico / Mansarda largo Arturo Donaggio, Torre...</td>\n",
       "      <td>€ 135.000</td>\n",
       "      <td>2</td>\n",
       "      <td>60.0</td>\n",
       "      <td>1</td>\n",
       "      <td>5     \\n</td>\n",
       "      <td>\\n                                Torrevecchia...</td>\n",
       "    </tr>\n",
       "  </tbody>\n",
       "</table>\n",
       "</div>"
      ],
      "text/plain": [
       "                                               title                  price  \\\n",
       "0  Nuovi Appartamenti e Attici / Mansarde in Vend...  € 192.000 - € 705.000   \n",
       "1  Bilocale viale Italo Calvino, Fonte Ostiense, ...              € 225.000   \n",
       "2  Quadrilocale via Alessandro Fleming, Fleming, ...            € 1.350.000   \n",
       "3        Quadrilocale via Aosta 45, Re di Roma, Roma              € 450.000   \n",
       "4  Attico / Mansarda largo Arturo Donaggio, Torre...              € 135.000   \n",
       "\n",
       "   locali  superficie bagni     piano  \\\n",
       "0  1 - 5         46.0   NaN       NaN   \n",
       "1      2         50.0    1   1     \\n   \n",
       "2      4        200.0    2   2     \\n   \n",
       "3      4        135.0    1   A     \\n   \n",
       "4      2         60.0    1   5     \\n   \n",
       "\n",
       "                                         description  \n",
       "0  \\n                                Le residenze...  \n",
       "1  \\n                                PAPILLO EUR ...  \n",
       "2  \\n                                FLEMING - IN...  \n",
       "3  \\n                                Rif: 18086 -...  \n",
       "4  \\n                                Torrevecchia...  "
      ]
     },
     "execution_count": 4,
     "metadata": {},
     "output_type": "execute_result"
    }
   ],
   "source": [
    "df = pd.read_csv('data/raw_data.csv')\n",
    "df.head()"
   ]
  },
  {
   "cell_type": "markdown",
   "metadata": {},
   "source": [
    "### 1.b) Preprocess the data\n",
    "\n",
    "Our task is to consider the following features:\n",
    "    - price: price of the house\n",
    "    - locali: number of rooms\n",
    "    - superficie: surface of the house (squared meters)\n",
    "    - bagni: number of bathrooms\n",
    "    - piano: number of floor of the house\n",
    "    \n",
    "    - description: for the second part of the analysis\n",
    "    \n",
    "We can immediatly see that we need to preprocess our data. \n",
    "\n",
    "For example, for our analysis we are not able to consider NaN values. If we want to clusterize among these features, we have to drop announcements that don't provide all necessary information about them. Last but not least, we have to preprocess the description of each announcement, stemming the words.\n",
    "\n",
    "Our criteria in the preprocessing is the following: \n",
    "\n",
    "1) **price**: we pick only numeric values. In the case that we have a range of values ( eg: € 192.000 - € 705.000) we pick the mean the average of the two. We drop out all the announcements withouth numerical values: for istance 'Prezzo su richiesta' ('price on request') and 'da € ---' ('from € ---'), because we are not able to establish which is the 'highest' price and so pick the average. We decided also to remove unsignificant prices for an house (less than 2 thousand euros)\n",
    "\n",
    "2) **locali**: usually there's only one value. In case we have a range, for istance '1 - 5', we pick the last value.\n",
    "\n",
    "3) **superficie**: this data doesn't need to be preprocessed, because it's already in float format. \n",
    "\n",
    "4) **piano**: piano can have different values. The largest values is 11+, which means the house is in a floor higher than 11. Since we don't know which is the value after 11th floor, instead of putting random values we decided drop off the announcements of which we don't know the floor value. For the others, we proceed in the following way:\n",
    "\n",
    "+ 'T': ground floor, we replace it with 0\n",
    "+ 'R': raized floor, we replace it with 0.5\n",
    "+ 'A' or '11+': pentaus or more than 11: we replace it with NaN\n",
    "+ 'R': basement, we replace it with -1\n",
    "\n",
    "\n",
    "5) **description**: We stem the description ad place another column with stemmed string\n",
    "\n",
    "\n",
    "To perform the preprocessing operations described above, we defined the following methods in a preprocess.py module"
   ]
  },
  {
   "cell_type": "code",
   "execution_count": 18,
   "metadata": {},
   "outputs": [],
   "source": [
    "import preprocessing as prp # our library preprocessing.py"
   ]
  },
  {
   "cell_type": "markdown",
   "metadata": {},
   "source": [
    "We use a functions from our library which picks raw data in input as dataframe ('data/raw_data.csv') and creates a new preprocessed dataframe in the path 'data/data_preprocessed'. "
   ]
  },
  {
   "cell_type": "code",
   "execution_count": 19,
   "metadata": {},
   "outputs": [],
   "source": [
    "# in data/data_preprocessed.csv\n",
    "prp.preprocess_raw_data()"
   ]
  },
  {
   "cell_type": "markdown",
   "metadata": {},
   "source": [
    "Our preprocessed dataframe is the following:"
   ]
  },
  {
   "cell_type": "code",
   "execution_count": 20,
   "metadata": {},
   "outputs": [
    {
     "data": {
      "text/html": [
       "<div>\n",
       "<style scoped>\n",
       "    .dataframe tbody tr th:only-of-type {\n",
       "        vertical-align: middle;\n",
       "    }\n",
       "\n",
       "    .dataframe tbody tr th {\n",
       "        vertical-align: top;\n",
       "    }\n",
       "\n",
       "    .dataframe thead th {\n",
       "        text-align: right;\n",
       "    }\n",
       "</style>\n",
       "<table border=\"1\" class=\"dataframe\">\n",
       "  <thead>\n",
       "    <tr style=\"text-align: right;\">\n",
       "      <th></th>\n",
       "      <th>title</th>\n",
       "      <th>price</th>\n",
       "      <th>locali</th>\n",
       "      <th>superficie</th>\n",
       "      <th>bagni</th>\n",
       "      <th>piano</th>\n",
       "      <th>description</th>\n",
       "      <th>description_stemmed</th>\n",
       "    </tr>\n",
       "  </thead>\n",
       "  <tbody>\n",
       "    <tr>\n",
       "      <th>0</th>\n",
       "      <td>Bilocale viale Italo Calvino, Fonte Ostiense, ...</td>\n",
       "      <td>225000.0</td>\n",
       "      <td>2</td>\n",
       "      <td>50.0</td>\n",
       "      <td>1</td>\n",
       "      <td>1.0</td>\n",
       "      <td>\\n                                PAPILLO EUR ...</td>\n",
       "      <td>papill eur in eleg compless residenzial rifini...</td>\n",
       "    </tr>\n",
       "    <tr>\n",
       "      <th>1</th>\n",
       "      <td>Quadrilocale via Alessandro Fleming, Fleming, ...</td>\n",
       "      <td>1350000.0</td>\n",
       "      <td>4</td>\n",
       "      <td>200.0</td>\n",
       "      <td>2</td>\n",
       "      <td>2.0</td>\n",
       "      <td>\\n                                FLEMING - IN...</td>\n",
       "      <td>fleming in strad priv via alessandr fleming si...</td>\n",
       "    </tr>\n",
       "    <tr>\n",
       "      <th>2</th>\n",
       "      <td>Attico / Mansarda largo Arturo Donaggio, Torre...</td>\n",
       "      <td>135000.0</td>\n",
       "      <td>2</td>\n",
       "      <td>60.0</td>\n",
       "      <td>1</td>\n",
       "      <td>5.0</td>\n",
       "      <td>\\n                                Torrevecchia...</td>\n",
       "      <td>torrevecc adiacent larg artur donagg appart in...</td>\n",
       "    </tr>\n",
       "    <tr>\n",
       "      <th>3</th>\n",
       "      <td>Bilocale viale delle Medaglie d'Oro 124, Medag...</td>\n",
       "      <td>249000.0</td>\n",
       "      <td>2</td>\n",
       "      <td>75.0</td>\n",
       "      <td>1</td>\n",
       "      <td>1.0</td>\n",
       "      <td>\\n                                Balduina, ad...</td>\n",
       "      <td>balduin adiacent piazz giovenal appart in vend...</td>\n",
       "    </tr>\n",
       "    <tr>\n",
       "      <th>4</th>\n",
       "      <td>Bilocale via Savona, Villa Fiorelli, Roma</td>\n",
       "      <td>339000.0</td>\n",
       "      <td>2</td>\n",
       "      <td>70.0</td>\n",
       "      <td>1</td>\n",
       "      <td>3.0</td>\n",
       "      <td>\\n                                In Via Savon...</td>\n",
       "      <td>in via savon una strad tranquill nel cuor di s...</td>\n",
       "    </tr>\n",
       "  </tbody>\n",
       "</table>\n",
       "</div>"
      ],
      "text/plain": [
       "                                               title      price  locali  \\\n",
       "0  Bilocale viale Italo Calvino, Fonte Ostiense, ...   225000.0       2   \n",
       "1  Quadrilocale via Alessandro Fleming, Fleming, ...  1350000.0       4   \n",
       "2  Attico / Mansarda largo Arturo Donaggio, Torre...   135000.0       2   \n",
       "3  Bilocale viale delle Medaglie d'Oro 124, Medag...   249000.0       2   \n",
       "4          Bilocale via Savona, Villa Fiorelli, Roma   339000.0       2   \n",
       "\n",
       "   superficie  bagni  piano  \\\n",
       "0        50.0      1    1.0   \n",
       "1       200.0      2    2.0   \n",
       "2        60.0      1    5.0   \n",
       "3        75.0      1    1.0   \n",
       "4        70.0      1    3.0   \n",
       "\n",
       "                                         description  \\\n",
       "0  \\n                                PAPILLO EUR ...   \n",
       "1  \\n                                FLEMING - IN...   \n",
       "2  \\n                                Torrevecchia...   \n",
       "3  \\n                                Balduina, ad...   \n",
       "4  \\n                                In Via Savon...   \n",
       "\n",
       "                                 description_stemmed  \n",
       "0  papill eur in eleg compless residenzial rifini...  \n",
       "1  fleming in strad priv via alessandr fleming si...  \n",
       "2  torrevecc adiacent larg artur donagg appart in...  \n",
       "3  balduin adiacent piazz giovenal appart in vend...  \n",
       "4  in via savon una strad tranquill nel cuor di s...  "
      ]
     },
     "execution_count": 20,
     "metadata": {},
     "output_type": "execute_result"
    }
   ],
   "source": [
    "df = pd.read_csv('data/data_preprocessed.csv')\n",
    "df.head()"
   ]
  },
  {
   "cell_type": "markdown",
   "metadata": {},
   "source": [
    "Now we can proceed with the other task of the homeworks"
   ]
  },
  {
   "cell_type": "markdown",
   "metadata": {},
   "source": [
    "### 1.c) Make two matrices"
   ]
  },
  {
   "cell_type": "code",
   "execution_count": null,
   "metadata": {},
   "outputs": [],
   "source": [
    "import matrix_generator"
   ]
  },
  {
   "cell_type": "markdown",
   "metadata": {},
   "source": [
    "#### a) Matrix with price, locali, superficie, bagni, piano\n",
    "\n",
    "This matrix it's almost done. The only thing that we have to do is to load it from our original dataframe using only the columns needed. Each row of the dataframe is relative ad an announcement."
   ]
  },
  {
   "cell_type": "code",
   "execution_count": 21,
   "metadata": {},
   "outputs": [
    {
     "data": {
      "text/html": [
       "<div>\n",
       "<style scoped>\n",
       "    .dataframe tbody tr th:only-of-type {\n",
       "        vertical-align: middle;\n",
       "    }\n",
       "\n",
       "    .dataframe tbody tr th {\n",
       "        vertical-align: top;\n",
       "    }\n",
       "\n",
       "    .dataframe thead th {\n",
       "        text-align: right;\n",
       "    }\n",
       "</style>\n",
       "<table border=\"1\" class=\"dataframe\">\n",
       "  <thead>\n",
       "    <tr style=\"text-align: right;\">\n",
       "      <th></th>\n",
       "      <th>price</th>\n",
       "      <th>locali</th>\n",
       "      <th>superficie</th>\n",
       "      <th>bagni</th>\n",
       "      <th>piano</th>\n",
       "    </tr>\n",
       "  </thead>\n",
       "  <tbody>\n",
       "    <tr>\n",
       "      <th>0</th>\n",
       "      <td>225000.0</td>\n",
       "      <td>2</td>\n",
       "      <td>50.0</td>\n",
       "      <td>1</td>\n",
       "      <td>1.0</td>\n",
       "    </tr>\n",
       "    <tr>\n",
       "      <th>1</th>\n",
       "      <td>1350000.0</td>\n",
       "      <td>4</td>\n",
       "      <td>200.0</td>\n",
       "      <td>2</td>\n",
       "      <td>2.0</td>\n",
       "    </tr>\n",
       "    <tr>\n",
       "      <th>2</th>\n",
       "      <td>135000.0</td>\n",
       "      <td>2</td>\n",
       "      <td>60.0</td>\n",
       "      <td>1</td>\n",
       "      <td>5.0</td>\n",
       "    </tr>\n",
       "    <tr>\n",
       "      <th>3</th>\n",
       "      <td>249000.0</td>\n",
       "      <td>2</td>\n",
       "      <td>75.0</td>\n",
       "      <td>1</td>\n",
       "      <td>1.0</td>\n",
       "    </tr>\n",
       "    <tr>\n",
       "      <th>4</th>\n",
       "      <td>339000.0</td>\n",
       "      <td>2</td>\n",
       "      <td>70.0</td>\n",
       "      <td>1</td>\n",
       "      <td>3.0</td>\n",
       "    </tr>\n",
       "  </tbody>\n",
       "</table>\n",
       "</div>"
      ],
      "text/plain": [
       "       price  locali  superficie  bagni  piano\n",
       "0   225000.0       2        50.0      1    1.0\n",
       "1  1350000.0       4       200.0      2    2.0\n",
       "2   135000.0       2        60.0      1    5.0\n",
       "3   249000.0       2        75.0      1    1.0\n",
       "4   339000.0       2        70.0      1    3.0"
      ]
     },
     "execution_count": 21,
     "metadata": {},
     "output_type": "execute_result"
    }
   ],
   "source": [
    "df_features = pd.read_csv('data/data_preprocessed.csv', usecols=['price', 'locali', 'superficie', 'bagni', 'piano'])\n",
    "df_features.head()"
   ]
  },
  {
   "cell_type": "markdown",
   "metadata": {},
   "source": [
    "#### b) TFIDF matrix from the description\n",
    "\n",
    "For this task we need to compute the ${ TFIDF }$ matrix. We will have ${TF_{i,j} \\times IDF_j}$, where:\n",
    "\n",
    "$$TF_{i,j} = \\frac{n_{i,j}}{\\mid a_i \\mid}$$\n",
    "\n",
    "With $n_{i,j}$ number of times word j appears in announcement i, and $\\mid a_i \\mid$ cardinality of announcement i.\n",
    "\n",
    "$$IDF_j = \\log \\frac{n}{\\mid a_j \\mid}$$\n",
    "\n",
    "With n the number of documents and $a_j$ the number of documents which contain the word j\n",
    "\n",
    "\n",
    "We implemented the TFIDF using *numpy* arrays, and *Counter* dictionaries from *collection* lib. But before implementing it we created a vocabulary which will transform words in words_ID. The functions are in the module *matrix_generator*.\n",
    "The vocabulary will be stored in the dataframe."
   ]
  },
  {
   "cell_type": "code",
   "execution_count": 22,
   "metadata": {},
   "outputs": [],
   "source": [
    "import matrix_generator as mtrx # our module matrix_generator.py"
   ]
  },
  {
   "cell_type": "code",
   "execution_count": 23,
   "metadata": {},
   "outputs": [],
   "source": [
    "# making the vocabulary\n",
    "mtrx.make_vocabulary(df)"
   ]
  },
  {
   "cell_type": "code",
   "execution_count": 24,
   "metadata": {},
   "outputs": [
    {
     "data": {
      "text/plain": [
       "20850"
      ]
     },
     "execution_count": 24,
     "metadata": {},
     "output_type": "execute_result"
    }
   ],
   "source": [
    "# we use the function load_object to show the len of the vocabulary\n",
    "len(mtrx.load_obj('vocabulary'))"
   ]
  },
  {
   "cell_type": "markdown",
   "metadata": {},
   "source": [
    "As you can see, we obtained a dictionary with 20850 words! Now, using the vocabulary, we can create a TFIDF matrix, with the announcements in the rows and words as features (columns)"
   ]
  },
  {
   "cell_type": "code",
   "execution_count": 34,
   "metadata": {},
   "outputs": [],
   "source": [
    "TFIDF_matrix = mtrx.make_TFIDF(df=df)"
   ]
  },
  {
   "cell_type": "code",
   "execution_count": 35,
   "metadata": {},
   "outputs": [
    {
     "data": {
      "text/plain": [
       "array([[0.062615  , 0.01062011, 0.02932372, ..., 0.        , 0.        ,\n",
       "        0.        ],\n",
       "       [0.        , 0.        , 0.        , ..., 0.        , 0.        ,\n",
       "        0.        ],\n",
       "       [0.        , 0.        , 0.        , ..., 0.        , 0.        ,\n",
       "        0.        ],\n",
       "       ...,\n",
       "       [0.        , 0.        , 0.        , ..., 0.        , 0.        ,\n",
       "        0.07813101],\n",
       "       [0.        , 0.00296166, 0.        , ..., 0.        , 0.        ,\n",
       "        0.        ],\n",
       "       [0.        , 0.01040981, 0.        , ..., 0.        , 0.        ,\n",
       "        0.        ]])"
      ]
     },
     "execution_count": 35,
     "metadata": {},
     "output_type": "execute_result"
    }
   ],
   "source": [
    "TFIDF_matrix"
   ]
  },
  {
   "cell_type": "code",
   "execution_count": 36,
   "metadata": {},
   "outputs": [
    {
     "data": {
      "text/html": [
       "<div>\n",
       "<style scoped>\n",
       "    .dataframe tbody tr th:only-of-type {\n",
       "        vertical-align: middle;\n",
       "    }\n",
       "\n",
       "    .dataframe tbody tr th {\n",
       "        vertical-align: top;\n",
       "    }\n",
       "\n",
       "    .dataframe thead th {\n",
       "        text-align: right;\n",
       "    }\n",
       "</style>\n",
       "<table border=\"1\" class=\"dataframe\">\n",
       "  <thead>\n",
       "    <tr style=\"text-align: right;\">\n",
       "      <th></th>\n",
       "      <th>0</th>\n",
       "      <th>1</th>\n",
       "      <th>2</th>\n",
       "      <th>3</th>\n",
       "      <th>4</th>\n",
       "      <th>5</th>\n",
       "      <th>6</th>\n",
       "      <th>7</th>\n",
       "      <th>8</th>\n",
       "      <th>9</th>\n",
       "      <th>...</th>\n",
       "      <th>20840</th>\n",
       "      <th>20841</th>\n",
       "      <th>20842</th>\n",
       "      <th>20843</th>\n",
       "      <th>20844</th>\n",
       "      <th>20845</th>\n",
       "      <th>20846</th>\n",
       "      <th>20847</th>\n",
       "      <th>20848</th>\n",
       "      <th>20849</th>\n",
       "    </tr>\n",
       "  </thead>\n",
       "  <tbody>\n",
       "    <tr>\n",
       "      <th>0</th>\n",
       "      <td>0.062615</td>\n",
       "      <td>0.010620</td>\n",
       "      <td>0.029324</td>\n",
       "      <td>0.011077</td>\n",
       "      <td>0.011151</td>\n",
       "      <td>0.068965</td>\n",
       "      <td>0.024561</td>\n",
       "      <td>0.041866</td>\n",
       "      <td>0.003965</td>\n",
       "      <td>0.036251</td>\n",
       "      <td>...</td>\n",
       "      <td>0.0</td>\n",
       "      <td>0.0</td>\n",
       "      <td>0.0</td>\n",
       "      <td>0.0</td>\n",
       "      <td>0.0</td>\n",
       "      <td>0.0</td>\n",
       "      <td>0.0</td>\n",
       "      <td>0.0</td>\n",
       "      <td>0.0</td>\n",
       "      <td>0.0</td>\n",
       "    </tr>\n",
       "    <tr>\n",
       "      <th>1</th>\n",
       "      <td>0.000000</td>\n",
       "      <td>0.000000</td>\n",
       "      <td>0.000000</td>\n",
       "      <td>0.009025</td>\n",
       "      <td>0.000000</td>\n",
       "      <td>0.000000</td>\n",
       "      <td>0.010006</td>\n",
       "      <td>0.000000</td>\n",
       "      <td>0.003231</td>\n",
       "      <td>0.000000</td>\n",
       "      <td>...</td>\n",
       "      <td>0.0</td>\n",
       "      <td>0.0</td>\n",
       "      <td>0.0</td>\n",
       "      <td>0.0</td>\n",
       "      <td>0.0</td>\n",
       "      <td>0.0</td>\n",
       "      <td>0.0</td>\n",
       "      <td>0.0</td>\n",
       "      <td>0.0</td>\n",
       "      <td>0.0</td>\n",
       "    </tr>\n",
       "    <tr>\n",
       "      <th>2</th>\n",
       "      <td>0.000000</td>\n",
       "      <td>0.000000</td>\n",
       "      <td>0.000000</td>\n",
       "      <td>0.000000</td>\n",
       "      <td>0.000000</td>\n",
       "      <td>0.000000</td>\n",
       "      <td>0.000000</td>\n",
       "      <td>0.000000</td>\n",
       "      <td>0.000000</td>\n",
       "      <td>0.000000</td>\n",
       "      <td>...</td>\n",
       "      <td>0.0</td>\n",
       "      <td>0.0</td>\n",
       "      <td>0.0</td>\n",
       "      <td>0.0</td>\n",
       "      <td>0.0</td>\n",
       "      <td>0.0</td>\n",
       "      <td>0.0</td>\n",
       "      <td>0.0</td>\n",
       "      <td>0.0</td>\n",
       "      <td>0.0</td>\n",
       "    </tr>\n",
       "    <tr>\n",
       "      <th>3</th>\n",
       "      <td>0.000000</td>\n",
       "      <td>0.000000</td>\n",
       "      <td>0.000000</td>\n",
       "      <td>0.000000</td>\n",
       "      <td>0.000000</td>\n",
       "      <td>0.000000</td>\n",
       "      <td>0.000000</td>\n",
       "      <td>0.000000</td>\n",
       "      <td>0.000000</td>\n",
       "      <td>0.000000</td>\n",
       "      <td>...</td>\n",
       "      <td>0.0</td>\n",
       "      <td>0.0</td>\n",
       "      <td>0.0</td>\n",
       "      <td>0.0</td>\n",
       "      <td>0.0</td>\n",
       "      <td>0.0</td>\n",
       "      <td>0.0</td>\n",
       "      <td>0.0</td>\n",
       "      <td>0.0</td>\n",
       "      <td>0.0</td>\n",
       "    </tr>\n",
       "    <tr>\n",
       "      <th>4</th>\n",
       "      <td>0.000000</td>\n",
       "      <td>0.005364</td>\n",
       "      <td>0.000000</td>\n",
       "      <td>0.005595</td>\n",
       "      <td>0.028161</td>\n",
       "      <td>0.000000</td>\n",
       "      <td>0.000000</td>\n",
       "      <td>0.000000</td>\n",
       "      <td>0.000000</td>\n",
       "      <td>0.000000</td>\n",
       "      <td>...</td>\n",
       "      <td>0.0</td>\n",
       "      <td>0.0</td>\n",
       "      <td>0.0</td>\n",
       "      <td>0.0</td>\n",
       "      <td>0.0</td>\n",
       "      <td>0.0</td>\n",
       "      <td>0.0</td>\n",
       "      <td>0.0</td>\n",
       "      <td>0.0</td>\n",
       "      <td>0.0</td>\n",
       "    </tr>\n",
       "  </tbody>\n",
       "</table>\n",
       "<p>5 rows × 20850 columns</p>\n",
       "</div>"
      ],
      "text/plain": [
       "      0         1         2         3         4         5         6      \\\n",
       "0  0.062615  0.010620  0.029324  0.011077  0.011151  0.068965  0.024561   \n",
       "1  0.000000  0.000000  0.000000  0.009025  0.000000  0.000000  0.010006   \n",
       "2  0.000000  0.000000  0.000000  0.000000  0.000000  0.000000  0.000000   \n",
       "3  0.000000  0.000000  0.000000  0.000000  0.000000  0.000000  0.000000   \n",
       "4  0.000000  0.005364  0.000000  0.005595  0.028161  0.000000  0.000000   \n",
       "\n",
       "      7         8         9      ...    20840  20841  20842  20843  20844  \\\n",
       "0  0.041866  0.003965  0.036251  ...      0.0    0.0    0.0    0.0    0.0   \n",
       "1  0.000000  0.003231  0.000000  ...      0.0    0.0    0.0    0.0    0.0   \n",
       "2  0.000000  0.000000  0.000000  ...      0.0    0.0    0.0    0.0    0.0   \n",
       "3  0.000000  0.000000  0.000000  ...      0.0    0.0    0.0    0.0    0.0   \n",
       "4  0.000000  0.000000  0.000000  ...      0.0    0.0    0.0    0.0    0.0   \n",
       "\n",
       "   20845  20846  20847  20848  20849  \n",
       "0    0.0    0.0    0.0    0.0    0.0  \n",
       "1    0.0    0.0    0.0    0.0    0.0  \n",
       "2    0.0    0.0    0.0    0.0    0.0  \n",
       "3    0.0    0.0    0.0    0.0    0.0  \n",
       "4    0.0    0.0    0.0    0.0    0.0  \n",
       "\n",
       "[5 rows x 20850 columns]"
      ]
     },
     "execution_count": 36,
     "metadata": {},
     "output_type": "execute_result"
    }
   ],
   "source": [
    "# putting TFIDF_matrix into a dataframe\n",
    "TFIDF_dataframe = pd.DataFrame(TFIDF_matrix)\n",
    "TFIDF_dataframe.head()"
   ]
  },
  {
   "cell_type": "markdown",
   "metadata": {},
   "source": [
    "Notice that the features (columns) are the word_ID for each word founded in all the document."
   ]
  },
  {
   "cell_type": "markdown",
   "metadata": {},
   "source": [
    "## 1.d) K-Means\n",
    "\n",
    "Now that we have the 2 matrices we can start with our k-means analysis. We will start from the first matrix\n",
    "\n",
    "### K-Means with 5 features: price, locali, superficie, bagni, piano\n",
    "\n",
    "We already have the matrix, the only thing that we need to do now is to prepare the data before using **The Elbow method**. Since each feature has different units of measurement, we need first of all to 'normalize' the values. To do this we use a function in sklearn called MinMaxScaler, that will give to each feature a new domain [0,1]."
   ]
  },
  {
   "cell_type": "code",
   "execution_count": 32,
   "metadata": {},
   "outputs": [],
   "source": [
    "import k_means as km"
   ]
  },
  {
   "cell_type": "code",
   "execution_count": 133,
   "metadata": {},
   "outputs": [
    {
     "data": {
      "text/plain": [
       "array([[-0.47922807, -1.14912341, -1.00337296, -0.8764586 , -0.63539358],\n",
       "       [ 2.5666562 ,  0.65982715,  1.69442209,  0.6468215 , -0.10243393],\n",
       "       [-0.72289881, -1.14912341, -0.82351996, -0.8764586 ,  1.49644499],\n",
       "       ...,\n",
       "       [ 0.94218459,  1.56430244,  3.67280513,  2.17010159,  0.43052571],\n",
       "       [-0.30324364, -0.24464813, -0.37388745,  0.6468215 , -0.63539358],\n",
       "       [-0.60377089, -0.24464813, -0.28396095, -0.8764586 , -0.9018734 ]])"
      ]
     },
     "execution_count": 133,
     "metadata": {},
     "output_type": "execute_result"
    }
   ],
   "source": [
    "data_transformed = km.transform_data(df_features)\n",
    "data_transformed"
   ]
  },
  {
   "cell_type": "code",
   "execution_count": 134,
   "metadata": {},
   "outputs": [
    {
     "data": {
      "image/png": "[encoded data removed]",
      "text/plain": [
       "<Figure size 864x576 with 1 Axes>"
      ]
     },
     "metadata": {},
     "output_type": "display_data"
    }
   ],
   "source": [
    "reload(km)\n",
    "fig = km.elbow_method(data_transformed, max_clusters=10)"
   ]
  },
  {
   "cell_type": "markdown",
   "metadata": {},
   "source": [
    "As we can see, from the elbow method the suggestion is to compute the k-means with 8 clusters, where there's a significant change in slope of the 'sum of distances' line. So, at this point we decide to pick 8 clusters, and we can start to execute k-means algorithm. We use the KMeans++ from sklearn module, and then we attach the result on our initial preprocessed dataframe *df*."
   ]
  },
  {
   "cell_type": "code",
   "execution_count": 117,
   "metadata": {},
   "outputs": [
    {
     "data": {
      "text/html": [
       "<div>\n",
       "<style scoped>\n",
       "    .dataframe tbody tr th:only-of-type {\n",
       "        vertical-align: middle;\n",
       "    }\n",
       "\n",
       "    .dataframe tbody tr th {\n",
       "        vertical-align: top;\n",
       "    }\n",
       "\n",
       "    .dataframe thead th {\n",
       "        text-align: right;\n",
       "    }\n",
       "</style>\n",
       "<table border=\"1\" class=\"dataframe\">\n",
       "  <thead>\n",
       "    <tr style=\"text-align: right;\">\n",
       "      <th></th>\n",
       "      <th>title</th>\n",
       "      <th>price</th>\n",
       "      <th>locali</th>\n",
       "      <th>superficie</th>\n",
       "      <th>bagni</th>\n",
       "      <th>piano</th>\n",
       "      <th>description</th>\n",
       "      <th>description_stemmed</th>\n",
       "      <th>features_cluster</th>\n",
       "    </tr>\n",
       "  </thead>\n",
       "  <tbody>\n",
       "    <tr>\n",
       "      <th>0</th>\n",
       "      <td>Bilocale viale Italo Calvino, Fonte Ostiense, ...</td>\n",
       "      <td>225000.0</td>\n",
       "      <td>2</td>\n",
       "      <td>50.0</td>\n",
       "      <td>1</td>\n",
       "      <td>1.0</td>\n",
       "      <td>\\n                                PAPILLO EUR ...</td>\n",
       "      <td>papill eur in eleg compless residenzial rifini...</td>\n",
       "      <td>3</td>\n",
       "    </tr>\n",
       "    <tr>\n",
       "      <th>1</th>\n",
       "      <td>Quadrilocale via Alessandro Fleming, Fleming, ...</td>\n",
       "      <td>1350000.0</td>\n",
       "      <td>4</td>\n",
       "      <td>200.0</td>\n",
       "      <td>2</td>\n",
       "      <td>2.0</td>\n",
       "      <td>\\n                                FLEMING - IN...</td>\n",
       "      <td>fleming in strad priv via alessandr fleming si...</td>\n",
       "      <td>2</td>\n",
       "    </tr>\n",
       "    <tr>\n",
       "      <th>2</th>\n",
       "      <td>Attico / Mansarda largo Arturo Donaggio, Torre...</td>\n",
       "      <td>135000.0</td>\n",
       "      <td>2</td>\n",
       "      <td>60.0</td>\n",
       "      <td>1</td>\n",
       "      <td>5.0</td>\n",
       "      <td>\\n                                Torrevecchia...</td>\n",
       "      <td>torrevecc adiacent larg artur donagg appart in...</td>\n",
       "      <td>4</td>\n",
       "    </tr>\n",
       "    <tr>\n",
       "      <th>3</th>\n",
       "      <td>Bilocale viale delle Medaglie d'Oro 124, Medag...</td>\n",
       "      <td>249000.0</td>\n",
       "      <td>2</td>\n",
       "      <td>75.0</td>\n",
       "      <td>1</td>\n",
       "      <td>1.0</td>\n",
       "      <td>\\n                                Balduina, ad...</td>\n",
       "      <td>balduin adiacent piazz giovenal appart in vend...</td>\n",
       "      <td>3</td>\n",
       "    </tr>\n",
       "    <tr>\n",
       "      <th>4</th>\n",
       "      <td>Bilocale via Savona, Villa Fiorelli, Roma</td>\n",
       "      <td>339000.0</td>\n",
       "      <td>2</td>\n",
       "      <td>70.0</td>\n",
       "      <td>1</td>\n",
       "      <td>3.0</td>\n",
       "      <td>\\n                                In Via Savon...</td>\n",
       "      <td>in via savon una strad tranquill nel cuor di s...</td>\n",
       "      <td>3</td>\n",
       "    </tr>\n",
       "  </tbody>\n",
       "</table>\n",
       "</div>"
      ],
      "text/plain": [
       "                                               title      price  locali  \\\n",
       "0  Bilocale viale Italo Calvino, Fonte Ostiense, ...   225000.0       2   \n",
       "1  Quadrilocale via Alessandro Fleming, Fleming, ...  1350000.0       4   \n",
       "2  Attico / Mansarda largo Arturo Donaggio, Torre...   135000.0       2   \n",
       "3  Bilocale viale delle Medaglie d'Oro 124, Medag...   249000.0       2   \n",
       "4          Bilocale via Savona, Villa Fiorelli, Roma   339000.0       2   \n",
       "\n",
       "   superficie  bagni  piano  \\\n",
       "0        50.0      1    1.0   \n",
       "1       200.0      2    2.0   \n",
       "2        60.0      1    5.0   \n",
       "3        75.0      1    1.0   \n",
       "4        70.0      1    3.0   \n",
       "\n",
       "                                         description  \\\n",
       "0  \\n                                PAPILLO EUR ...   \n",
       "1  \\n                                FLEMING - IN...   \n",
       "2  \\n                                Torrevecchia...   \n",
       "3  \\n                                Balduina, ad...   \n",
       "4  \\n                                In Via Savon...   \n",
       "\n",
       "                                 description_stemmed  features_cluster  \n",
       "0  papill eur in eleg compless residenzial rifini...                 3  \n",
       "1  fleming in strad priv via alessandr fleming si...                 2  \n",
       "2  torrevecc adiacent larg artur donagg appart in...                 4  \n",
       "3  balduin adiacent piazz giovenal appart in vend...                 3  \n",
       "4  in via savon una strad tranquill nel cuor di s...                 3  "
      ]
     },
     "execution_count": 117,
     "metadata": {},
     "output_type": "execute_result"
    }
   ],
   "source": [
    "from sklearn.cluster import KMeans\n",
    "\n",
    "# kmeans++ with seed 1234 (for reproducibility). \n",
    "model = KMeans(n_clusters=4, random_state=1234, init='k-means++')\n",
    "model.fit(data_transformed)\n",
    "clusters = model.predict(data_transformed)\n",
    "df['features_cluster'] = clusters\n",
    "df.head()"
   ]
  },
  {
   "cell_type": "markdown",
   "metadata": {},
   "source": [
    "Now for each announcement we have another cluster attribute, **features_cluster**. This feature indicates the cluster to which each announcement belongs. If we want to see the number of announcements contained in each cluster we can simply groupby *features_cluster*"
   ]
  },
  {
   "cell_type": "code",
   "execution_count": 124,
   "metadata": {},
   "outputs": [
    {
     "data": {
      "text/plain": [
       "features_cluster\n",
       "0    1284\n",
       "1    1473\n",
       "2     477\n",
       "3    1516\n",
       "4     758\n",
       "5      61\n",
       "6     831\n",
       "7     983\n",
       "Name: price, dtype: int64"
      ]
     },
     "execution_count": 124,
     "metadata": {},
     "output_type": "execute_result"
    }
   ],
   "source": [
    "df.groupby('features_cluster').price.count()"
   ]
  },
  {
   "cell_type": "markdown",
   "metadata": {},
   "source": [
    "We notice that we have a cluster (the 6th,  so the '5' in order of index), that has significantly less values than the others. Maybe there's a strict relation between the announcements or maybe they are outliers."
   ]
  },
  {
   "cell_type": "markdown",
   "metadata": {},
   "source": [
    "### K-Means with 5 TFIDF\n",
    "\n",
    "\n"
   ]
  },
  {
   "cell_type": "code",
   "execution_count": 127,
   "metadata": {},
   "outputs": [
    {
     "data": {
      "text/plain": [
       "<module 'k_means' from '/Users/miguel/Desktop/ADM_HW4/ADM-HW4/k_means.py'>"
      ]
     },
     "execution_count": 127,
     "metadata": {},
     "output_type": "execute_result"
    }
   ],
   "source": [
    "reload(km)"
   ]
  },
  {
   "cell_type": "markdown",
   "metadata": {},
   "source": [
    "To implement K-Means, we have to choose the number of clusters. For this task, we faced out a computational and a logical problem. Is it logic to implement K-means over more than 20000 features? Surely we will have a lot of 'outliers', for example, features, or actually words, that recurs only in few documents. \n",
    "\n",
    "We decided to compute the occurency of each word in the dictionary:"
   ]
  },
  {
   "cell_type": "code",
   "execution_count": 128,
   "metadata": {},
   "outputs": [
    {
     "data": {
      "image/png": "[encoded data removed]",
      "text/plain": [
       "<Figure size 1080x576 with 1 Axes>"
      ]
     },
     "metadata": {},
     "output_type": "display_data"
    }
   ],
   "source": [
    "km.count_plot_words_occurrencies(TFIDF_dataframe)"
   ]
  },
  {
   "cell_type": "code",
   "execution_count": null,
   "metadata": {},
   "outputs": [],
   "source": [
    "As we can see, after the first words loaded into the vocabulary, "
   ]
  },
  {
   "cell_type": "code",
   "execution_count": 144,
   "metadata": {},
   "outputs": [
    {
     "name": "stdout",
     "output_type": "stream",
     "text": [
      "Over 20850 features (words), we drop out 20503 features that recurs in less than 7383 announcements\n"
     ]
    }
   ],
   "source": [
    "total_announcements = len(TFIDF_dataframe)\n",
    "n_features = len(TFIDF_dataframe.iloc[0])\n",
    "\n",
    "threshold = total_announcements * 0.05\n",
    "columns_to_delete = km.detect_weak_features(TFIDF_dataframe, threshold = threshold)\n",
    "print('Over %d features (words), we drop out %d features that recurs in less than %d announcements'\n",
    "      %(n_features,len(columns_to_delete), total_announcement))"
   ]
  },
  {
   "cell_type": "code",
   "execution_count": 145,
   "metadata": {},
   "outputs": [
    {
     "data": {
      "text/html": [
       "<div>\n",
       "<style scoped>\n",
       "    .dataframe tbody tr th:only-of-type {\n",
       "        vertical-align: middle;\n",
       "    }\n",
       "\n",
       "    .dataframe tbody tr th {\n",
       "        vertical-align: top;\n",
       "    }\n",
       "\n",
       "    .dataframe thead th {\n",
       "        text-align: right;\n",
       "    }\n",
       "</style>\n",
       "<table border=\"1\" class=\"dataframe\">\n",
       "  <thead>\n",
       "    <tr style=\"text-align: right;\">\n",
       "      <th></th>\n",
       "      <th>1</th>\n",
       "      <th>2</th>\n",
       "      <th>3</th>\n",
       "      <th>4</th>\n",
       "      <th>6</th>\n",
       "      <th>8</th>\n",
       "      <th>10</th>\n",
       "      <th>13</th>\n",
       "      <th>14</th>\n",
       "      <th>15</th>\n",
       "      <th>...</th>\n",
       "      <th>1669</th>\n",
       "      <th>1933</th>\n",
       "      <th>2436</th>\n",
       "      <th>2537</th>\n",
       "      <th>2654</th>\n",
       "      <th>3444</th>\n",
       "      <th>3448</th>\n",
       "      <th>3449</th>\n",
       "      <th>3453</th>\n",
       "      <th>3556</th>\n",
       "    </tr>\n",
       "  </thead>\n",
       "  <tbody>\n",
       "    <tr>\n",
       "      <th>0</th>\n",
       "      <td>0.010620</td>\n",
       "      <td>0.029324</td>\n",
       "      <td>0.011077</td>\n",
       "      <td>0.011151</td>\n",
       "      <td>0.024561</td>\n",
       "      <td>0.003965</td>\n",
       "      <td>0.006574</td>\n",
       "      <td>0.0221</td>\n",
       "      <td>0.013401</td>\n",
       "      <td>0.029731</td>\n",
       "      <td>...</td>\n",
       "      <td>0.0</td>\n",
       "      <td>0.0</td>\n",
       "      <td>0.0</td>\n",
       "      <td>0.0</td>\n",
       "      <td>0.0</td>\n",
       "      <td>0.0</td>\n",
       "      <td>0.0</td>\n",
       "      <td>0.0</td>\n",
       "      <td>0.0</td>\n",
       "      <td>0.0</td>\n",
       "    </tr>\n",
       "    <tr>\n",
       "      <th>1</th>\n",
       "      <td>0.000000</td>\n",
       "      <td>0.000000</td>\n",
       "      <td>0.009025</td>\n",
       "      <td>0.000000</td>\n",
       "      <td>0.010006</td>\n",
       "      <td>0.003231</td>\n",
       "      <td>0.005357</td>\n",
       "      <td>0.0000</td>\n",
       "      <td>0.000000</td>\n",
       "      <td>0.000000</td>\n",
       "      <td>...</td>\n",
       "      <td>0.0</td>\n",
       "      <td>0.0</td>\n",
       "      <td>0.0</td>\n",
       "      <td>0.0</td>\n",
       "      <td>0.0</td>\n",
       "      <td>0.0</td>\n",
       "      <td>0.0</td>\n",
       "      <td>0.0</td>\n",
       "      <td>0.0</td>\n",
       "      <td>0.0</td>\n",
       "    </tr>\n",
       "    <tr>\n",
       "      <th>2</th>\n",
       "      <td>0.000000</td>\n",
       "      <td>0.000000</td>\n",
       "      <td>0.000000</td>\n",
       "      <td>0.000000</td>\n",
       "      <td>0.000000</td>\n",
       "      <td>0.000000</td>\n",
       "      <td>0.009571</td>\n",
       "      <td>0.0000</td>\n",
       "      <td>0.000000</td>\n",
       "      <td>0.000000</td>\n",
       "      <td>...</td>\n",
       "      <td>0.0</td>\n",
       "      <td>0.0</td>\n",
       "      <td>0.0</td>\n",
       "      <td>0.0</td>\n",
       "      <td>0.0</td>\n",
       "      <td>0.0</td>\n",
       "      <td>0.0</td>\n",
       "      <td>0.0</td>\n",
       "      <td>0.0</td>\n",
       "      <td>0.0</td>\n",
       "    </tr>\n",
       "    <tr>\n",
       "      <th>3</th>\n",
       "      <td>0.000000</td>\n",
       "      <td>0.000000</td>\n",
       "      <td>0.000000</td>\n",
       "      <td>0.000000</td>\n",
       "      <td>0.000000</td>\n",
       "      <td>0.000000</td>\n",
       "      <td>0.000000</td>\n",
       "      <td>0.0000</td>\n",
       "      <td>0.000000</td>\n",
       "      <td>0.000000</td>\n",
       "      <td>...</td>\n",
       "      <td>0.0</td>\n",
       "      <td>0.0</td>\n",
       "      <td>0.0</td>\n",
       "      <td>0.0</td>\n",
       "      <td>0.0</td>\n",
       "      <td>0.0</td>\n",
       "      <td>0.0</td>\n",
       "      <td>0.0</td>\n",
       "      <td>0.0</td>\n",
       "      <td>0.0</td>\n",
       "    </tr>\n",
       "    <tr>\n",
       "      <th>4</th>\n",
       "      <td>0.005364</td>\n",
       "      <td>0.000000</td>\n",
       "      <td>0.005595</td>\n",
       "      <td>0.028161</td>\n",
       "      <td>0.000000</td>\n",
       "      <td>0.000000</td>\n",
       "      <td>0.000000</td>\n",
       "      <td>0.0000</td>\n",
       "      <td>0.000000</td>\n",
       "      <td>0.000000</td>\n",
       "      <td>...</td>\n",
       "      <td>0.0</td>\n",
       "      <td>0.0</td>\n",
       "      <td>0.0</td>\n",
       "      <td>0.0</td>\n",
       "      <td>0.0</td>\n",
       "      <td>0.0</td>\n",
       "      <td>0.0</td>\n",
       "      <td>0.0</td>\n",
       "      <td>0.0</td>\n",
       "      <td>0.0</td>\n",
       "    </tr>\n",
       "  </tbody>\n",
       "</table>\n",
       "<p>5 rows × 347 columns</p>\n",
       "</div>"
      ],
      "text/plain": [
       "       1         2         3         4         6         8         10    \\\n",
       "0  0.010620  0.029324  0.011077  0.011151  0.024561  0.003965  0.006574   \n",
       "1  0.000000  0.000000  0.009025  0.000000  0.010006  0.003231  0.005357   \n",
       "2  0.000000  0.000000  0.000000  0.000000  0.000000  0.000000  0.009571   \n",
       "3  0.000000  0.000000  0.000000  0.000000  0.000000  0.000000  0.000000   \n",
       "4  0.005364  0.000000  0.005595  0.028161  0.000000  0.000000  0.000000   \n",
       "\n",
       "     13        14        15    ...   1669  1933  2436  2537  2654  3444  3448  \\\n",
       "0  0.0221  0.013401  0.029731  ...    0.0   0.0   0.0   0.0   0.0   0.0   0.0   \n",
       "1  0.0000  0.000000  0.000000  ...    0.0   0.0   0.0   0.0   0.0   0.0   0.0   \n",
       "2  0.0000  0.000000  0.000000  ...    0.0   0.0   0.0   0.0   0.0   0.0   0.0   \n",
       "3  0.0000  0.000000  0.000000  ...    0.0   0.0   0.0   0.0   0.0   0.0   0.0   \n",
       "4  0.0000  0.000000  0.000000  ...    0.0   0.0   0.0   0.0   0.0   0.0   0.0   \n",
       "\n",
       "   3449  3453  3556  \n",
       "0   0.0   0.0   0.0  \n",
       "1   0.0   0.0   0.0  \n",
       "2   0.0   0.0   0.0  \n",
       "3   0.0   0.0   0.0  \n",
       "4   0.0   0.0   0.0  \n",
       "\n",
       "[5 rows x 347 columns]"
      ]
     },
     "execution_count": 145,
     "metadata": {},
     "output_type": "execute_result"
    }
   ],
   "source": [
    "new_TFIDF = TFIDF_dataframe.drop(columns=columns_to_delete, axis=1)\n",
    "new_TFIDF.head()"
   ]
  },
  {
   "cell_type": "markdown",
   "metadata": {},
   "source": []
  },
  {
   "cell_type": "code",
   "execution_count": 147,
   "metadata": {},
   "outputs": [
    {
     "data": {
      "text/html": [
       "<div>\n",
       "<style scoped>\n",
       "    .dataframe tbody tr th:only-of-type {\n",
       "        vertical-align: middle;\n",
       "    }\n",
       "\n",
       "    .dataframe tbody tr th {\n",
       "        vertical-align: top;\n",
       "    }\n",
       "\n",
       "    .dataframe thead th {\n",
       "        text-align: right;\n",
       "    }\n",
       "</style>\n",
       "<table border=\"1\" class=\"dataframe\">\n",
       "  <thead>\n",
       "    <tr style=\"text-align: right;\">\n",
       "      <th></th>\n",
       "      <th>title</th>\n",
       "      <th>price</th>\n",
       "      <th>locali</th>\n",
       "      <th>superficie</th>\n",
       "      <th>bagni</th>\n",
       "      <th>piano</th>\n",
       "      <th>description</th>\n",
       "      <th>description_stemmed</th>\n",
       "      <th>features_cluster</th>\n",
       "      <th>TFIDF_cluster</th>\n",
       "    </tr>\n",
       "  </thead>\n",
       "  <tbody>\n",
       "    <tr>\n",
       "      <th>0</th>\n",
       "      <td>Bilocale viale Italo Calvino, Fonte Ostiense, ...</td>\n",
       "      <td>225000.0</td>\n",
       "      <td>2</td>\n",
       "      <td>50.0</td>\n",
       "      <td>1</td>\n",
       "      <td>1.0</td>\n",
       "      <td>\\n                                PAPILLO EUR ...</td>\n",
       "      <td>papill eur in eleg compless residenzial rifini...</td>\n",
       "      <td>3</td>\n",
       "      <td>3</td>\n",
       "    </tr>\n",
       "    <tr>\n",
       "      <th>1</th>\n",
       "      <td>Quadrilocale via Alessandro Fleming, Fleming, ...</td>\n",
       "      <td>1350000.0</td>\n",
       "      <td>4</td>\n",
       "      <td>200.0</td>\n",
       "      <td>2</td>\n",
       "      <td>2.0</td>\n",
       "      <td>\\n                                FLEMING - IN...</td>\n",
       "      <td>fleming in strad priv via alessandr fleming si...</td>\n",
       "      <td>2</td>\n",
       "      <td>0</td>\n",
       "    </tr>\n",
       "    <tr>\n",
       "      <th>2</th>\n",
       "      <td>Attico / Mansarda largo Arturo Donaggio, Torre...</td>\n",
       "      <td>135000.0</td>\n",
       "      <td>2</td>\n",
       "      <td>60.0</td>\n",
       "      <td>1</td>\n",
       "      <td>5.0</td>\n",
       "      <td>\\n                                Torrevecchia...</td>\n",
       "      <td>torrevecc adiacent larg artur donagg appart in...</td>\n",
       "      <td>4</td>\n",
       "      <td>3</td>\n",
       "    </tr>\n",
       "    <tr>\n",
       "      <th>3</th>\n",
       "      <td>Bilocale viale delle Medaglie d'Oro 124, Medag...</td>\n",
       "      <td>249000.0</td>\n",
       "      <td>2</td>\n",
       "      <td>75.0</td>\n",
       "      <td>1</td>\n",
       "      <td>1.0</td>\n",
       "      <td>\\n                                Balduina, ad...</td>\n",
       "      <td>balduin adiacent piazz giovenal appart in vend...</td>\n",
       "      <td>3</td>\n",
       "      <td>3</td>\n",
       "    </tr>\n",
       "    <tr>\n",
       "      <th>4</th>\n",
       "      <td>Bilocale via Savona, Villa Fiorelli, Roma</td>\n",
       "      <td>339000.0</td>\n",
       "      <td>2</td>\n",
       "      <td>70.0</td>\n",
       "      <td>1</td>\n",
       "      <td>3.0</td>\n",
       "      <td>\\n                                In Via Savon...</td>\n",
       "      <td>in via savon una strad tranquill nel cuor di s...</td>\n",
       "      <td>3</td>\n",
       "      <td>1</td>\n",
       "    </tr>\n",
       "  </tbody>\n",
       "</table>\n",
       "</div>"
      ],
      "text/plain": [
       "                                               title      price  locali  \\\n",
       "0  Bilocale viale Italo Calvino, Fonte Ostiense, ...   225000.0       2   \n",
       "1  Quadrilocale via Alessandro Fleming, Fleming, ...  1350000.0       4   \n",
       "2  Attico / Mansarda largo Arturo Donaggio, Torre...   135000.0       2   \n",
       "3  Bilocale viale delle Medaglie d'Oro 124, Medag...   249000.0       2   \n",
       "4          Bilocale via Savona, Villa Fiorelli, Roma   339000.0       2   \n",
       "\n",
       "   superficie  bagni  piano  \\\n",
       "0        50.0      1    1.0   \n",
       "1       200.0      2    2.0   \n",
       "2        60.0      1    5.0   \n",
       "3        75.0      1    1.0   \n",
       "4        70.0      1    3.0   \n",
       "\n",
       "                                         description  \\\n",
       "0  \\n                                PAPILLO EUR ...   \n",
       "1  \\n                                FLEMING - IN...   \n",
       "2  \\n                                Torrevecchia...   \n",
       "3  \\n                                Balduina, ad...   \n",
       "4  \\n                                In Via Savon...   \n",
       "\n",
       "                                 description_stemmed  features_cluster  \\\n",
       "0  papill eur in eleg compless residenzial rifini...                 3   \n",
       "1  fleming in strad priv via alessandr fleming si...                 2   \n",
       "2  torrevecc adiacent larg artur donagg appart in...                 4   \n",
       "3  balduin adiacent piazz giovenal appart in vend...                 3   \n",
       "4  in via savon una strad tranquill nel cuor di s...                 3   \n",
       "\n",
       "   TFIDF_cluster  \n",
       "0              3  \n",
       "1              0  \n",
       "2              3  \n",
       "3              3  \n",
       "4              1  "
      ]
     },
     "execution_count": 147,
     "metadata": {},
     "output_type": "execute_result"
    }
   ],
   "source": [
    "# kmeans++ with seed 1234 (for reproducibility).\n",
    "\n",
    "model = KMeans(n_clusters=4, random_state=1234, init='k-means++')\n",
    "model.fit(new_TFIDF)\n",
    "clusters = model.predict(new_TFIDF)\n",
    "df['TFIDF_cluster'] = clusters\n",
    "df.head()"
   ]
  },
  {
   "cell_type": "code",
   "execution_count": null,
   "metadata": {},
   "outputs": [],
   "source": []
  },
  {
   "cell_type": "code",
   "execution_count": null,
   "metadata": {},
   "outputs": [],
   "source": []
  }
 ],
 "metadata": {
  "kernelspec": {
   "display_name": "Python 3",
   "language": "python",
   "name": "python3"
  },
  "language_info": {
   "codemirror_mode": {
    "name": "ipython",
    "version": 3
   },
   "file_extension": ".py",
   "mimetype": "text/x-python",
   "name": "python",
   "nbconvert_exporter": "python",
   "pygments_lexer": "ipython3",
   "version": "3.6.5"
  }
 },
 "nbformat": 4,
 "nbformat_minor": 2
}
